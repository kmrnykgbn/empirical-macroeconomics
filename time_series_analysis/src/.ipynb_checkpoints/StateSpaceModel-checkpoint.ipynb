{
 "cells": [
  {
   "cell_type": "code",
   "execution_count": 1,
   "id": "68b9583b",
   "metadata": {},
   "outputs": [],
   "source": [
    "%matplotlib inline\n",
    "\n",
    "import pandas_datareader.data as web\n",
    "import datetime as datetime\n",
    "import numpy as np\n",
    "import pandas as pd\n",
    "from scipy.stats import norm\n",
    "import statsmodels.api as sm\n",
    "import matplotlib.pyplot as plt\n",
    "from scipy.signal import lfilter\n",
    "\n",
    "orig_df = web.DataReader('JPNRGDPEXP', 'fred' ,start = datetime.datetime(1994,1,1),end = datetime.datetime(2021,1,1))"
   ]
  },
  {
   "cell_type": "code",
   "execution_count": 2,
   "id": "34fa0c26",
   "metadata": {},
   "outputs": [
    {
     "data": {
      "text/html": [
       "<div>\n",
       "<style scoped>\n",
       "    .dataframe tbody tr th:only-of-type {\n",
       "        vertical-align: middle;\n",
       "    }\n",
       "\n",
       "    .dataframe tbody tr th {\n",
       "        vertical-align: top;\n",
       "    }\n",
       "\n",
       "    .dataframe thead th {\n",
       "        text-align: right;\n",
       "    }\n",
       "</style>\n",
       "<table border=\"1\" class=\"dataframe\">\n",
       "  <thead>\n",
       "    <tr style=\"text-align: right;\">\n",
       "      <th></th>\n",
       "      <th>JPNRGDPEXP</th>\n",
       "    </tr>\n",
       "  </thead>\n",
       "  <tbody>\n",
       "    <tr>\n",
       "      <th>1994-01-01</th>\n",
       "      <td>13.008699</td>\n",
       "    </tr>\n",
       "    <tr>\n",
       "      <th>1994-04-01</th>\n",
       "      <td>13.003142</td>\n",
       "    </tr>\n",
       "    <tr>\n",
       "      <th>1994-07-01</th>\n",
       "      <td>13.014642</td>\n",
       "    </tr>\n",
       "    <tr>\n",
       "      <th>1994-10-01</th>\n",
       "      <td>13.010609</td>\n",
       "    </tr>\n",
       "    <tr>\n",
       "      <th>1995-01-01</th>\n",
       "      <td>13.021622</td>\n",
       "    </tr>\n",
       "    <tr>\n",
       "      <th>...</th>\n",
       "      <td>...</td>\n",
       "    </tr>\n",
       "    <tr>\n",
       "      <th>2020-01-01</th>\n",
       "      <td>13.207129</td>\n",
       "    </tr>\n",
       "    <tr>\n",
       "      <th>2020-04-01</th>\n",
       "      <td>13.122828</td>\n",
       "    </tr>\n",
       "    <tr>\n",
       "      <th>2020-07-01</th>\n",
       "      <td>13.174381</td>\n",
       "    </tr>\n",
       "    <tr>\n",
       "      <th>2020-10-01</th>\n",
       "      <td>13.202121</td>\n",
       "    </tr>\n",
       "    <tr>\n",
       "      <th>2021-01-01</th>\n",
       "      <td>13.192057</td>\n",
       "    </tr>\n",
       "  </tbody>\n",
       "</table>\n",
       "<p>109 rows × 1 columns</p>\n",
       "</div>"
      ],
      "text/plain": [
       "            JPNRGDPEXP\n",
       "1994-01-01   13.008699\n",
       "1994-04-01   13.003142\n",
       "1994-07-01   13.014642\n",
       "1994-10-01   13.010609\n",
       "1995-01-01   13.021622\n",
       "...                ...\n",
       "2020-01-01   13.207129\n",
       "2020-04-01   13.122828\n",
       "2020-07-01   13.174381\n",
       "2020-10-01   13.202121\n",
       "2021-01-01   13.192057\n",
       "\n",
       "[109 rows x 1 columns]"
      ]
     },
     "execution_count": 2,
     "metadata": {},
     "output_type": "execute_result"
    }
   ],
   "source": [
    "# transform data\n",
    "orig_df = orig_df.dropna(how='any')\n",
    "index = pd.date_range(orig_df.index[0], periods=orig_df.shape[0], freq=\"QS\")\n",
    "orig_df.set_index(index, inplace=True)\n",
    "\n",
    "# take log\n",
    "df = np.log(orig_df)\n",
    "df"
   ]
  },
  {
   "cell_type": "code",
   "execution_count": 3,
   "id": "ccf3ba31",
   "metadata": {},
   "outputs": [],
   "source": [
    "# model parameters\n",
    "nobs = len(df)\n",
    "phi_vec = np.r_[0.5, 0.5] #phi1, phi2\n",
    "sigma_sq = np.r_[10, 10, 10] #sigma_tau, sigma_c, sigma_beta"
   ]
  },
  {
   "cell_type": "code",
   "execution_count": 4,
   "id": "345408ac",
   "metadata": {},
   "outputs": [],
   "source": [
    "\"\"\"\n",
    "Univariate Local Linear Trend Model\n",
    "\"\"\"\n",
    "class LocalLinearTrend(sm.tsa.statespace.MLEModel):\n",
    "    def __init__(self, endog):\n",
    "        # Model order\n",
    "        k_states = 4\n",
    "        k_posdef = 4\n",
    "\n",
    "        # Initialize the statespace\n",
    "        super(LocalLinearTrend, self).__init__(\n",
    "            endog, k_states=k_states, k_posdef=k_posdef,\n",
    "            initialization='approximate_diffuse',\n",
    "            loglikelihood_burn=k_states\n",
    "        )\n",
    "\n",
    "        # Initialize the matrices\n",
    "        self.ssm['design'] = np.array([1, 1, 0, 0])\n",
    "        self.ssm['transition'] = np.array([[1, 0, 1, 0],\n",
    "                                       [0, phi_vec[0], 0, phi_vec[1]],\n",
    "                                       [0, 0, 1, 0],\n",
    "                                       [0, 1, 0, 0]])\n",
    "        self.ssm['selection'] = np.eye(k_states)\n",
    "        self.ssm['selection', 3, 3] = 0\n",
    "\n",
    "        # Cache some indices\n",
    "        self._state_cov_idx = ('state_cov',) + np.diag_indices(k_posdef)\n",
    "\n",
    "    @property\n",
    "    def param_names(self):\n",
    "        return ['phi.1', 'phi.2', 'sigma2.tau', 'sigma2.c', 'sigma2.beta']\n",
    "\n",
    "    @property\n",
    "    def start_params(self):\n",
    "        return [phi_vec[0], phi_vec[1], sigma_sq[0], sigma_sq[1], sigma_sq[2]]\n",
    "\n",
    "    def transform_params(self, unconstrained):\n",
    "        # only variance \n",
    "        unconstrained[2:] = unconstrained[2:]**2\n",
    "        return unconstrained\n",
    "\n",
    "    def untransform_params(self, constrained):\n",
    "        # only variance\n",
    "        constrained[2:] = constrained[2:]**0.5\n",
    "        return constrained\n",
    "\n",
    "    def update(self, params, *args, **kwargs):\n",
    "        params = super(LocalLinearTrend, self).update(params, *args, **kwargs)\n",
    "        self['transition', 1, 1] = params[0]\n",
    "        self['transition', 1, 3] = params[1]\n",
    "        self['state_cov', 0, 0] = params[2]\n",
    "        self['state_cov', 1, 1] = params[3]\n",
    "        self['state_cov', 2, 2] = params[4]"
   ]
  },
  {
   "cell_type": "code",
   "execution_count": 5,
   "id": "61b49bd3",
   "metadata": {},
   "outputs": [
    {
     "data": {
      "text/html": [
       "<table class=\"simpletable\">\n",
       "<caption>Statespace Model Results</caption>\n",
       "<tr>\n",
       "  <th>Dep. Variable:</th>      <td>JPNRGDPEXP</td>    <th>  No. Observations:  </th>    <td>109</td>  \n",
       "</tr>\n",
       "<tr>\n",
       "  <th>Model:</th>           <td>LocalLinearTrend</td> <th>  Log Likelihood     </th>  <td>297.090</td>\n",
       "</tr>\n",
       "<tr>\n",
       "  <th>Date:</th>            <td>Tue, 20 Jul 2021</td> <th>  AIC                </th> <td>-584.179</td>\n",
       "</tr>\n",
       "<tr>\n",
       "  <th>Time:</th>                <td>04:58:15</td>     <th>  BIC                </th> <td>-570.909</td>\n",
       "</tr>\n",
       "<tr>\n",
       "  <th>Sample:</th>             <td>01-01-1994</td>    <th>  HQIC               </th> <td>-578.802</td>\n",
       "</tr>\n",
       "<tr>\n",
       "  <th></th>                   <td>- 01-01-2021</td>   <th>                     </th>     <td> </td>   \n",
       "</tr>\n",
       "<tr>\n",
       "  <th>Covariance Type:</th>        <td>opg</td>       <th>                     </th>     <td> </td>   \n",
       "</tr>\n",
       "</table>\n",
       "<table class=\"simpletable\">\n",
       "<tr>\n",
       "       <td></td>          <th>coef</th>     <th>std err</th>      <th>z</th>      <th>P>|z|</th>  <th>[0.025</th>    <th>0.975]</th>  \n",
       "</tr>\n",
       "<tr>\n",
       "  <th>phi.1</th>       <td>    0.7277</td> <td>    0.292</td> <td>    2.493</td> <td> 0.013</td> <td>    0.156</td> <td>    1.300</td>\n",
       "</tr>\n",
       "<tr>\n",
       "  <th>phi.2</th>       <td>   -0.0243</td> <td>    0.146</td> <td>   -0.166</td> <td> 0.868</td> <td>   -0.310</td> <td>    0.262</td>\n",
       "</tr>\n",
       "<tr>\n",
       "  <th>sigma2.tau</th>  <td>  6.79e-05</td> <td>    0.000</td> <td>    0.503</td> <td> 0.615</td> <td>   -0.000</td> <td>    0.000</td>\n",
       "</tr>\n",
       "<tr>\n",
       "  <th>sigma2.c</th>    <td>    0.0001</td> <td>    0.000</td> <td>    0.817</td> <td> 0.414</td> <td>   -0.000</td> <td>    0.000</td>\n",
       "</tr>\n",
       "<tr>\n",
       "  <th>sigma2.beta</th> <td> 8.595e-13</td> <td> 2.05e-07</td> <td> 4.19e-06</td> <td> 1.000</td> <td>-4.03e-07</td> <td> 4.03e-07</td>\n",
       "</tr>\n",
       "</table>\n",
       "<table class=\"simpletable\">\n",
       "<tr>\n",
       "  <th>Ljung-Box (L1) (Q):</th>     <td>0.00</td> <th>  Jarque-Bera (JB):  </th> <td>1368.24</td>\n",
       "</tr>\n",
       "<tr>\n",
       "  <th>Prob(Q):</th>                <td>0.96</td> <th>  Prob(JB):          </th>  <td>0.00</td>  \n",
       "</tr>\n",
       "<tr>\n",
       "  <th>Heteroskedasticity (H):</th> <td>6.59</td> <th>  Skew:              </th>  <td>-2.88</td> \n",
       "</tr>\n",
       "<tr>\n",
       "  <th>Prob(H) (two-sided):</th>    <td>0.00</td> <th>  Kurtosis:          </th>  <td>19.72</td> \n",
       "</tr>\n",
       "</table><br/><br/>Warnings:<br/>[1] Covariance matrix calculated using the outer product of gradients (complex-step)."
      ],
      "text/plain": [
       "<class 'statsmodels.iolib.summary.Summary'>\n",
       "\"\"\"\n",
       "                           Statespace Model Results                           \n",
       "==============================================================================\n",
       "Dep. Variable:             JPNRGDPEXP   No. Observations:                  109\n",
       "Model:               LocalLinearTrend   Log Likelihood                 297.090\n",
       "Date:                Tue, 20 Jul 2021   AIC                           -584.179\n",
       "Time:                        04:58:15   BIC                           -570.909\n",
       "Sample:                    01-01-1994   HQIC                          -578.802\n",
       "                         - 01-01-2021                                         \n",
       "Covariance Type:                  opg                                         \n",
       "===============================================================================\n",
       "                  coef    std err          z      P>|z|      [0.025      0.975]\n",
       "-------------------------------------------------------------------------------\n",
       "phi.1           0.7277      0.292      2.493      0.013       0.156       1.300\n",
       "phi.2          -0.0243      0.146     -0.166      0.868      -0.310       0.262\n",
       "sigma2.tau    6.79e-05      0.000      0.503      0.615      -0.000       0.000\n",
       "sigma2.c        0.0001      0.000      0.817      0.414      -0.000       0.000\n",
       "sigma2.beta  8.595e-13   2.05e-07   4.19e-06      1.000   -4.03e-07    4.03e-07\n",
       "===================================================================================\n",
       "Ljung-Box (L1) (Q):                   0.00   Jarque-Bera (JB):              1368.24\n",
       "Prob(Q):                              0.96   Prob(JB):                         0.00\n",
       "Heteroskedasticity (H):               6.59   Skew:                            -2.88\n",
       "Prob(H) (two-sided):                  0.00   Kurtosis:                        19.72\n",
       "===================================================================================\n",
       "\n",
       "Warnings:\n",
       "[1] Covariance matrix calculated using the outer product of gradients (complex-step).\n",
       "\"\"\""
      ]
     },
     "execution_count": 5,
     "metadata": {},
     "output_type": "execute_result"
    }
   ],
   "source": [
    "# Create and fit the model\n",
    "mod = LocalLinearTrend(df)\n",
    "res = mod.fit(disp=False)\n",
    "res.summary()"
   ]
  },
  {
   "cell_type": "code",
   "execution_count": 6,
   "id": "8f8072f5",
   "metadata": {},
   "outputs": [
    {
     "data": {
      "text/plain": [
       "1994-01-01    13.038139\n",
       "1994-04-01    13.039624\n",
       "1994-07-01    13.041006\n",
       "1994-10-01    13.038338\n",
       "1995-01-01    13.041539\n",
       "                ...    \n",
       "2020-01-01    13.204811\n",
       "2020-04-01    13.176015\n",
       "2020-07-01    13.191987\n",
       "2020-10-01    13.200596\n",
       "2021-01-01    13.197560\n",
       "Freq: QS-JAN, Name: state.0, Length: 109, dtype: float64"
      ]
     },
     "execution_count": 6,
     "metadata": {},
     "output_type": "execute_result"
    }
   ],
   "source": [
    "trend = res.states.smoothed['state.0']\n",
    "trend"
   ]
  },
  {
   "cell_type": "code",
   "execution_count": 11,
   "id": "61075581",
   "metadata": {},
   "outputs": [
    {
     "data": {
      "text/plain": [
       "1994-01-01   -0.029440\n",
       "1994-04-01   -0.036482\n",
       "1994-07-01   -0.026365\n",
       "1994-10-01   -0.027729\n",
       "1995-01-01   -0.019917\n",
       "                ...   \n",
       "2020-01-01    0.002318\n",
       "2020-04-01   -0.053187\n",
       "2020-07-01   -0.017606\n",
       "2020-10-01    0.001524\n",
       "2021-01-01   -0.005503\n",
       "Freq: QS-JAN, Name: state.1, Length: 109, dtype: float64"
      ]
     },
     "execution_count": 11,
     "metadata": {},
     "output_type": "execute_result"
    }
   ],
   "source": [
    "cycle = res.states.smoothed['state.1']\n",
    "cycle"
   ]
  },
  {
   "cell_type": "code",
   "execution_count": 12,
   "id": "7517fdf1",
   "metadata": {},
   "outputs": [],
   "source": [
    "# plot data function\n",
    "def plot_data(data_b, data_r, label, title, ax_label=None):\n",
    "    \n",
    "    plt.figure(figsize=(8, 5))\n",
    "    \n",
    "    # plot\n",
    "    if data_b is not None:\n",
    "        plt.plot(data_b.index, data_b, label=label[0], color=\"blue\")\n",
    "    if data_r is not None:\n",
    "        plt.plot(data_r.index, data_r, label=label[1], color=\"darkorange\")\n",
    "    \n",
    "    # title\n",
    "    plt.title(title)\n",
    "    \n",
    "    # axis label\n",
    "    if ax_label is not None:\n",
    "        plt.xlabel(ax_label[0])   \n",
    "        plt.ylabel(ax_label[1])\n",
    "    \n",
    "    #setting\n",
    "    plt.xticks(rotation=90, size='small')\n",
    "    \n",
    "    # display\n",
    "    plt.legend()\n",
    "\n",
    "    # show\n",
    "    plt.show()"
   ]
  },
  {
   "cell_type": "code",
   "execution_count": 15,
   "id": "5c2d50b1",
   "metadata": {},
   "outputs": [
    {
     "data": {
      "image/png": "[encoded data removed]",
      "text/plain": [
       "<Figure size 576x360 with 1 Axes>"
      ]
     },
     "metadata": {
      "needs_background": "light"
     },
     "output_type": "display_data"
    }
   ],
   "source": [
    "# plot trend\n",
    "plot_data(trend, df,  ['the trend of gdp', 'the original series of gdp'], 'The trend and the original series of GDP')"
   ]
  },
  {
   "cell_type": "code",
   "execution_count": 14,
   "id": "8254f626",
   "metadata": {},
   "outputs": [
    {
     "data": {
      "image/png": "[encoded data removed]",
      "text/plain": [
       "<Figure size 576x360 with 1 Axes>"
      ]
     },
     "metadata": {
      "needs_background": "light"
     },
     "output_type": "display_data"
    }
   ],
   "source": [
    "plt.figure(figsize=(8, 5))\n",
    "\n",
    "# plot cycle\n",
    "plt.plot(cycle.index, cycle, label=\"the cycle of gdp\", color=\"green\")\n",
    "\n",
    "# title\n",
    "plt.title(\"The cycle of GDP\")\n",
    "\n",
    "plt.legend()\n",
    "\n",
    "# show\n",
    "plt.show()"
   ]
  },
  {
   "cell_type": "code",
   "execution_count": null,
   "id": "6efcd894",
   "metadata": {},
   "outputs": [],
   "source": []
  }
 ],
 "metadata": {
  "kernelspec": {
   "display_name": "Python 3",
   "language": "python",
   "name": "python3"
  },
  "language_info": {
   "codemirror_mode": {
    "name": "ipython",
    "version": 3
   },
   "file_extension": ".py",
   "mimetype": "text/x-python",
   "name": "python",
   "nbconvert_exporter": "python",
   "pygments_lexer": "ipython3",
   "version": "3.7.3"
  }
 },
 "nbformat": 4,
 "nbformat_minor": 5
}
