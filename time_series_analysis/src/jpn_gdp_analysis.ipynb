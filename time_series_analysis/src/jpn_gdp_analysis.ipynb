{
 "cells": [
  {
   "cell_type": "code",
   "execution_count": 1,
   "metadata": {},
   "outputs": [
    {
     "data": {
      "text/html": [
       "<div>\n",
       "<style scoped>\n",
       "    .dataframe tbody tr th:only-of-type {\n",
       "        vertical-align: middle;\n",
       "    }\n",
       "\n",
       "    .dataframe tbody tr th {\n",
       "        vertical-align: top;\n",
       "    }\n",
       "\n",
       "    .dataframe thead th {\n",
       "        text-align: right;\n",
       "    }\n",
       "</style>\n",
       "<table border=\"1\" class=\"dataframe\">\n",
       "  <thead>\n",
       "    <tr style=\"text-align: right;\">\n",
       "      <th></th>\n",
       "      <th>JPNRGDPEXP</th>\n",
       "    </tr>\n",
       "    <tr>\n",
       "      <th>DATE</th>\n",
       "      <th></th>\n",
       "    </tr>\n",
       "  </thead>\n",
       "  <tbody>\n",
       "    <tr>\n",
       "      <th>1994-01-01</th>\n",
       "      <td>446278.0</td>\n",
       "    </tr>\n",
       "    <tr>\n",
       "      <th>1994-04-01</th>\n",
       "      <td>443805.1</td>\n",
       "    </tr>\n",
       "    <tr>\n",
       "      <th>1994-07-01</th>\n",
       "      <td>448938.0</td>\n",
       "    </tr>\n",
       "    <tr>\n",
       "      <th>1994-10-01</th>\n",
       "      <td>447131.3</td>\n",
       "    </tr>\n",
       "    <tr>\n",
       "      <th>1995-01-01</th>\n",
       "      <td>452082.7</td>\n",
       "    </tr>\n",
       "    <tr>\n",
       "      <th>...</th>\n",
       "      <td>...</td>\n",
       "    </tr>\n",
       "    <tr>\n",
       "      <th>2019-10-01</th>\n",
       "      <td>548764.6</td>\n",
       "    </tr>\n",
       "    <tr>\n",
       "      <th>2020-01-01</th>\n",
       "      <td>545673.1</td>\n",
       "    </tr>\n",
       "    <tr>\n",
       "      <th>2020-04-01</th>\n",
       "      <td>500391.2</td>\n",
       "    </tr>\n",
       "    <tr>\n",
       "      <th>2020-07-01</th>\n",
       "      <td>526790.3</td>\n",
       "    </tr>\n",
       "    <tr>\n",
       "      <th>2020-10-01</th>\n",
       "      <td>541619.3</td>\n",
       "    </tr>\n",
       "  </tbody>\n",
       "</table>\n",
       "<p>108 rows × 1 columns</p>\n",
       "</div>"
      ],
      "text/plain": [
       "            JPNRGDPEXP\n",
       "DATE                  \n",
       "1994-01-01    446278.0\n",
       "1994-04-01    443805.1\n",
       "1994-07-01    448938.0\n",
       "1994-10-01    447131.3\n",
       "1995-01-01    452082.7\n",
       "...                ...\n",
       "2019-10-01    548764.6\n",
       "2020-01-01    545673.1\n",
       "2020-04-01    500391.2\n",
       "2020-07-01    526790.3\n",
       "2020-10-01    541619.3\n",
       "\n",
       "[108 rows x 1 columns]"
      ]
     },
     "execution_count": 1,
     "metadata": {},
     "output_type": "execute_result"
    }
   ],
   "source": [
    "import pandas_datareader.data as web\n",
    "import datetime as datetime\n",
    "import pandas as pd\n",
    "import numpy as np\n",
    "import matplotlib.pyplot as plt\n",
    "import statsmodels.api as sm\n",
    "from statsmodels.tsa.ar_model import AutoReg, ar_select_order\n",
    "\n",
    "# read data\n",
    "\n",
    "rgdp_org = web.DataReader('JPNRGDPEXP', 'fred' ,start = datetime.datetime(1994,1,1),end = datetime.datetime(2020,10,1))\n",
    "\n",
    "rgdp_df = rgdp_org.copy()\n",
    "rgdp_df"
   ]
  },
  {
   "cell_type": "code",
   "execution_count": 2,
   "metadata": {},
   "outputs": [],
   "source": [
    "# plot data function\n",
    "def plot_data(data_b, data_r, label, title, ax_label=None):\n",
    "    # plot\n",
    "    if data_b is not None:\n",
    "        plt.plot(data_b.index, data_b, label=label[0], color=\"blue\")\n",
    "    if data_r is not None:\n",
    "        plt.plot(data_r.index, data_r, label=label[1], color=\"darkorange\")\n",
    "\n",
    "    # title\n",
    "    plt.title(title)\n",
    "    \n",
    "    # axis label\n",
    "    if ax_label is not None:\n",
    "        plt.xlabel(ax_label[0])   \n",
    "        plt.ylabel(ax_label[1])\n",
    "    \n",
    "    #setting\n",
    "    plt.xticks(rotation=90, size='small')\n",
    "    \n",
    "    # display\n",
    "    plt.legend()\n",
    "\n",
    "    # show\n",
    "    plt.show()"
   ]
  },
  {
   "cell_type": "code",
   "execution_count": 3,
   "metadata": {},
   "outputs": [
    {
     "data": {
      "text/plain": [
       "pandas.core.indexes.datetimes.DatetimeIndex"
      ]
     },
     "execution_count": 3,
     "metadata": {},
     "output_type": "execute_result"
    }
   ],
   "source": [
    "# convert the index\n",
    "index = pd.date_range(rgdp_df.index[0], periods=rgdp_df.shape[0], freq=\"q\")\n",
    "rgdp_df.set_index(index, inplace=True)\n",
    "type(rgdp_df.index)"
   ]
  },
  {
   "cell_type": "code",
   "execution_count": 4,
   "metadata": {},
   "outputs": [
    {
     "data": {
      "text/plain": [
       "1994-03-31    13.008697\n",
       "1994-06-30    13.003141\n",
       "1994-09-30    13.014640\n",
       "1994-12-31    13.010608\n",
       "1995-03-31    13.021620\n",
       "                ...    \n",
       "2019-12-31    13.215425\n",
       "2020-03-31    13.209775\n",
       "2020-06-30    13.123145\n",
       "2020-09-30    13.174558\n",
       "2020-12-31    13.202319\n",
       "Freq: Q-DEC, Name: JPNRGDPEXP, Length: 108, dtype: float64"
      ]
     },
     "execution_count": 4,
     "metadata": {},
     "output_type": "execute_result"
    }
   ],
   "source": [
    "# log transformation\n",
    "data_l = np.log(rgdp_df[\"JPNRGDPEXP\"])\n",
    "data_l"
   ]
  },
  {
   "cell_type": "code",
   "execution_count": 5,
   "metadata": {},
   "outputs": [
    {
     "name": "stdout",
     "output_type": "stream",
     "text": [
      "index 1 value: -8.499866153046112\n",
      "index 2 value: -8.47894487705649\n",
      "index 3 value: -8.452741242397853\n",
      "index 4 value: -8.461807902857268\n",
      "index 5 value: -8.43807764470087\n",
      "index 6 value: -8.414498211306478\n",
      "index 7 value: -8.386803294074435\n",
      "index 8 value: -8.35602792950735\n",
      "index 9 value: -8.33396690003844\n",
      "index 10 value: -8.310965576883671\n",
      "index 11 value: -8.282114625740965\n",
      "index 12 value: -8.281358050518865\n",
      "index 13 value: -8.249094153545126\n",
      "Min AIC lag: 1\n",
      "Min AIC: -8.499866153046112\n"
     ]
    }
   ],
   "source": [
    "# Problem 3-1\n",
    "\n",
    "# search optimal AIC\n",
    "aic_list = []\n",
    "\n",
    "for i in range(1,14):\n",
    "    model = AutoReg(data_l, lags=i, trend=\"t\", old_names=False)\n",
    "    result = model.fit()\n",
    "    aic_list.append(result.aic)\n",
    "    print(\"index\", i, \"value:\", result.aic)\n",
    "\n",
    "#optimal AIC\n",
    "opt_lag =  np.argmin(np.array(aic_list)) +1\n",
    "    \n",
    "print(\"Min AIC lag:\", opt_lag)\n",
    "print(\"Min AIC:\", np.min(aic_list))"
   ]
  },
  {
   "cell_type": "code",
   "execution_count": 6,
   "metadata": {},
   "outputs": [
    {
     "name": "stdout",
     "output_type": "stream",
     "text": [
      "stats: -1.9815201148283494\n",
      "p-value: 0.294734200201419\n",
      "used_lags: 1\n",
      "nobs: 106\n",
      "critical_value: {'1%': -3.4936021509366793, '5%': -2.8892174239808703, '10%': -2.58153320754717}\n"
     ]
    }
   ],
   "source": [
    "# ADF Test\n",
    "from statsmodels.tsa.stattools import adfuller\n",
    "\n",
    "adf_results = adfuller(data_l, maxlag=opt_lag ,autolag=None)\n",
    "print(\"stats:\", adf_results[0])\n",
    "print(\"p-value:\", adf_results[1])\n",
    "print(\"used_lags:\", adf_results[2])\n",
    "print(\"nobs:\", adf_results[3])\n",
    "print(\"critical_value:\", adf_results[4])"
   ]
  },
  {
   "cell_type": "code",
   "execution_count": 7,
   "metadata": {},
   "outputs": [
    {
     "data": {
      "text/plain": [
       "array([13.03876893, 13.04054643, 13.04232392, 13.04410142, 13.04587891,\n",
       "       13.04765641, 13.0494339 , 13.0512114 , 13.05298889, 13.05476639,\n",
       "       13.05654388, 13.05832138, 13.06009887, 13.06187637, 13.06365387,\n",
       "       13.06543136, 13.06720886, 13.06898635, 13.07076385, 13.07254134,\n",
       "       13.07431884, 13.07609633, 13.07787383, 13.07965132, 13.08142882,\n",
       "       13.08320631, 13.08498381, 13.0867613 , 13.0885388 , 13.09031629,\n",
       "       13.09209379, 13.09387129, 13.09564878, 13.09742628, 13.09920377,\n",
       "       13.10098127, 13.10275876, 13.10453626, 13.10631375, 13.10809125,\n",
       "       13.10986874, 13.11164624, 13.11342373, 13.11520123, 13.11697872,\n",
       "       13.11875622, 13.12053371, 13.12231121, 13.12408871, 13.1258662 ,\n",
       "       13.1276437 , 13.12942119, 13.13119869, 13.13297618, 13.13475368,\n",
       "       13.13653117, 13.13830867, 13.14008616, 13.14186366, 13.14364115,\n",
       "       13.14541865, 13.14719614, 13.14897364, 13.15075113, 13.15252863,\n",
       "       13.15430613, 13.15608362, 13.15786112, 13.15963861, 13.16141611,\n",
       "       13.1631936 , 13.1649711 , 13.16674859, 13.16852609, 13.17030358,\n",
       "       13.17208108, 13.17385857, 13.17563607, 13.17741356, 13.17919106,\n",
       "       13.18096855, 13.18274605, 13.18452355, 13.18630104, 13.18807854,\n",
       "       13.18985603, 13.19163353, 13.19341102, 13.19518852, 13.19696601,\n",
       "       13.19874351, 13.200521  , 13.2022985 , 13.20407599, 13.20585349,\n",
       "       13.20763098, 13.20940848, 13.21118597, 13.21296347, 13.21474097,\n",
       "       13.21651846, 13.21829596, 13.22007345, 13.22185095, 13.22362844,\n",
       "       13.22540594, 13.22718343, 13.22896093])"
      ]
     },
     "execution_count": 7,
     "metadata": {},
     "output_type": "execute_result"
    }
   ],
   "source": [
    "from sklearn.linear_model import LinearRegression as lr\n",
    "import datetime\n",
    "\n",
    "# problem 3-2\n",
    "\n",
    "time = np.array(range(0, data_l.count())).reshape(-1,1) # time\n",
    "\n",
    "# linear trend\n",
    "model = lr()\n",
    "model.fit(time, data_l)\n",
    "predict_lr = model.predict(time)\n",
    "predict_lr"
   ]
  },
  {
   "cell_type": "code",
   "execution_count": 8,
   "metadata": {},
   "outputs": [
    {
     "data": {
      "image/png": "[encoded data removed]",
      "text/plain": [
       "<Figure size 432x288 with 1 Axes>"
      ]
     },
     "metadata": {
      "needs_background": "light"
     },
     "output_type": "display_data"
    }
   ],
   "source": [
    "# plot\n",
    "plt.plot(data_l.index, data_l, label=\"log_gdp\", color=\"darkorange\")\n",
    "plt.plot(data_l.index, predict_lr, label=\"trend\", color=\"blue\")\n",
    "\n",
    "#setting\n",
    "plt.xticks(rotation=90, size='small')\n",
    "    \n",
    "# display\n",
    "plt.legend()\n",
    "\n",
    "# show\n",
    "plt.show()"
   ]
  },
  {
   "cell_type": "code",
   "execution_count": 9,
   "metadata": {},
   "outputs": [
    {
     "data": {
      "image/png": "[encoded data removed]",
      "text/plain": [
       "<Figure size 432x288 with 1 Axes>"
      ]
     },
     "metadata": {
      "needs_background": "light"
     },
     "output_type": "display_data"
    }
   ],
   "source": [
    "# problem 3-3\n",
    "\n",
    "# HP filter\n",
    "cycle, trend = sm.tsa.filters.hpfilter(data_l, 1600)\n",
    "plot_data(trend, data_l, ['trend', 'log_gdp'], 'hp-filter trend and log-gdp')"
   ]
  },
  {
   "cell_type": "code",
   "execution_count": 10,
   "metadata": {
    "scrolled": true
   },
   "outputs": [
    {
     "data": {
      "text/html": [
       "<table class=\"simpletable\">\n",
       "<caption>AutoReg Model Results</caption>\n",
       "<tr>\n",
       "  <th>Dep. Variable:</th>    <td>JPNRGDPEXP</td>    <th>  No. Observations:  </th>   <td>107</td>  \n",
       "</tr>\n",
       "<tr>\n",
       "  <th>Model:</th>            <td>AutoReg(12)</td>   <th>  Log Likelihood     </th> <td>271.982</td>\n",
       "</tr>\n",
       "<tr>\n",
       "  <th>Method:</th>         <td>Conditional MLE</td> <th>  S.D. of innovations</th>  <td>0.014</td> \n",
       "</tr>\n",
       "<tr>\n",
       "  <th>Date:</th>          <td>Thu, 13 May 2021</td> <th>  AIC                </th> <td>-8.269</td> \n",
       "</tr>\n",
       "<tr>\n",
       "  <th>Time:</th>              <td>11:04:49</td>     <th>  BIC                </th> <td>-7.893</td> \n",
       "</tr>\n",
       "<tr>\n",
       "  <th>Sample:</th>           <td>06-30-1997</td>    <th>  HQIC               </th> <td>-8.117</td> \n",
       "</tr>\n",
       "<tr>\n",
       "  <th></th>                 <td>- 12-31-2020</td>   <th>                     </th>    <td> </td>   \n",
       "</tr>\n",
       "</table>\n",
       "<table class=\"simpletable\">\n",
       "<tr>\n",
       "         <td></td>           <th>coef</th>     <th>std err</th>      <th>z</th>      <th>P>|z|</th>  <th>[0.025</th>    <th>0.975]</th>  \n",
       "</tr>\n",
       "<tr>\n",
       "  <th>const</th>          <td>    0.0035</td> <td>    0.002</td> <td>    2.013</td> <td> 0.044</td> <td> 9.29e-05</td> <td>    0.007</td>\n",
       "</tr>\n",
       "<tr>\n",
       "  <th>JPNRGDPEXP.L1</th>  <td>   -0.0659</td> <td>    0.106</td> <td>   -0.619</td> <td> 0.536</td> <td>   -0.274</td> <td>    0.143</td>\n",
       "</tr>\n",
       "<tr>\n",
       "  <th>JPNRGDPEXP.L2</th>  <td>    0.0040</td> <td>    0.113</td> <td>    0.035</td> <td> 0.972</td> <td>   -0.217</td> <td>    0.225</td>\n",
       "</tr>\n",
       "<tr>\n",
       "  <th>JPNRGDPEXP.L3</th>  <td>   -0.3086</td> <td>    0.154</td> <td>   -2.004</td> <td> 0.045</td> <td>   -0.611</td> <td>   -0.007</td>\n",
       "</tr>\n",
       "<tr>\n",
       "  <th>JPNRGDPEXP.L4</th>  <td>   -0.1237</td> <td>    0.156</td> <td>   -0.793</td> <td> 0.428</td> <td>   -0.429</td> <td>    0.182</td>\n",
       "</tr>\n",
       "<tr>\n",
       "  <th>JPNRGDPEXP.L5</th>  <td>   -0.1288</td> <td>    0.156</td> <td>   -0.828</td> <td> 0.408</td> <td>   -0.434</td> <td>    0.176</td>\n",
       "</tr>\n",
       "<tr>\n",
       "  <th>JPNRGDPEXP.L6</th>  <td>   -0.0819</td> <td>    0.156</td> <td>   -0.524</td> <td> 0.600</td> <td>   -0.388</td> <td>    0.224</td>\n",
       "</tr>\n",
       "<tr>\n",
       "  <th>JPNRGDPEXP.L7</th>  <td>    0.0128</td> <td>    0.156</td> <td>    0.082</td> <td> 0.934</td> <td>   -0.293</td> <td>    0.318</td>\n",
       "</tr>\n",
       "<tr>\n",
       "  <th>JPNRGDPEXP.L8</th>  <td>   -0.1347</td> <td>    0.155</td> <td>   -0.871</td> <td> 0.384</td> <td>   -0.438</td> <td>    0.169</td>\n",
       "</tr>\n",
       "<tr>\n",
       "  <th>JPNRGDPEXP.L9</th>  <td>   -0.0285</td> <td>    0.155</td> <td>   -0.184</td> <td> 0.854</td> <td>   -0.332</td> <td>    0.275</td>\n",
       "</tr>\n",
       "<tr>\n",
       "  <th>JPNRGDPEXP.L10</th> <td>   -0.0633</td> <td>    0.153</td> <td>   -0.414</td> <td> 0.679</td> <td>   -0.363</td> <td>    0.236</td>\n",
       "</tr>\n",
       "<tr>\n",
       "  <th>JPNRGDPEXP.L11</th> <td>   -0.2310</td> <td>    0.151</td> <td>   -1.530</td> <td> 0.126</td> <td>   -0.527</td> <td>    0.065</td>\n",
       "</tr>\n",
       "<tr>\n",
       "  <th>JPNRGDPEXP.L12</th> <td>   -0.0335</td> <td>    0.152</td> <td>   -0.220</td> <td> 0.826</td> <td>   -0.331</td> <td>    0.264</td>\n",
       "</tr>\n",
       "</table>\n",
       "<table class=\"simpletable\">\n",
       "<caption>Roots</caption>\n",
       "<tr>\n",
       "    <td></td>    <th>            Real</th>  <th>         Imaginary</th> <th>         Modulus</th>  <th>        Frequency</th>\n",
       "</tr>\n",
       "<tr>\n",
       "  <th>AR.1</th>  <td>           1.0501</td> <td>          -0.4141j</td> <td>           1.1288</td> <td>          -0.0598</td>\n",
       "</tr>\n",
       "<tr>\n",
       "  <th>AR.2</th>  <td>           1.0501</td> <td>          +0.4141j</td> <td>           1.1288</td> <td>           0.0598</td>\n",
       "</tr>\n",
       "<tr>\n",
       "  <th>AR.3</th>  <td>           0.6946</td> <td>          -0.8355j</td> <td>           1.0865</td> <td>          -0.1396</td>\n",
       "</tr>\n",
       "<tr>\n",
       "  <th>AR.4</th>  <td>           0.6946</td> <td>          +0.8355j</td> <td>           1.0865</td> <td>           0.1396</td>\n",
       "</tr>\n",
       "<tr>\n",
       "  <th>AR.5</th>  <td>           0.2069</td> <td>          -1.1540j</td> <td>           1.1724</td> <td>          -0.2218</td>\n",
       "</tr>\n",
       "<tr>\n",
       "  <th>AR.6</th>  <td>           0.2069</td> <td>          +1.1540j</td> <td>           1.1724</td> <td>           0.2218</td>\n",
       "</tr>\n",
       "<tr>\n",
       "  <th>AR.7</th>  <td>          -0.4590</td> <td>          -1.0633j</td> <td>           1.1582</td> <td>          -0.3149</td>\n",
       "</tr>\n",
       "<tr>\n",
       "  <th>AR.8</th>  <td>          -0.4590</td> <td>          +1.0633j</td> <td>           1.1582</td> <td>           0.3149</td>\n",
       "</tr>\n",
       "<tr>\n",
       "  <th>AR.9</th>  <td>          -1.0317</td> <td>          -0.5376j</td> <td>           1.1634</td> <td>          -0.4236</td>\n",
       "</tr>\n",
       "<tr>\n",
       "  <th>AR.10</th> <td>          -1.0317</td> <td>          +0.5376j</td> <td>           1.1634</td> <td>           0.4236</td>\n",
       "</tr>\n",
       "<tr>\n",
       "  <th>AR.11</th> <td>          -1.2020</td> <td>          -0.0000j</td> <td>           1.2020</td> <td>          -0.5000</td>\n",
       "</tr>\n",
       "<tr>\n",
       "  <th>AR.12</th> <td>          -6.6198</td> <td>          -0.0000j</td> <td>           6.6198</td> <td>          -0.5000</td>\n",
       "</tr>\n",
       "</table>"
      ],
      "text/plain": [
       "<class 'statsmodels.iolib.summary.Summary'>\n",
       "\"\"\"\n",
       "                            AutoReg Model Results                             \n",
       "==============================================================================\n",
       "Dep. Variable:             JPNRGDPEXP   No. Observations:                  107\n",
       "Model:                    AutoReg(12)   Log Likelihood                 271.982\n",
       "Method:               Conditional MLE   S.D. of innovations              0.014\n",
       "Date:                Thu, 13 May 2021   AIC                             -8.269\n",
       "Time:                        11:04:49   BIC                             -7.893\n",
       "Sample:                    06-30-1997   HQIC                            -8.117\n",
       "                         - 12-31-2020                                         \n",
       "==================================================================================\n",
       "                     coef    std err          z      P>|z|      [0.025      0.975]\n",
       "----------------------------------------------------------------------------------\n",
       "const              0.0035      0.002      2.013      0.044    9.29e-05       0.007\n",
       "JPNRGDPEXP.L1     -0.0659      0.106     -0.619      0.536      -0.274       0.143\n",
       "JPNRGDPEXP.L2      0.0040      0.113      0.035      0.972      -0.217       0.225\n",
       "JPNRGDPEXP.L3     -0.3086      0.154     -2.004      0.045      -0.611      -0.007\n",
       "JPNRGDPEXP.L4     -0.1237      0.156     -0.793      0.428      -0.429       0.182\n",
       "JPNRGDPEXP.L5     -0.1288      0.156     -0.828      0.408      -0.434       0.176\n",
       "JPNRGDPEXP.L6     -0.0819      0.156     -0.524      0.600      -0.388       0.224\n",
       "JPNRGDPEXP.L7      0.0128      0.156      0.082      0.934      -0.293       0.318\n",
       "JPNRGDPEXP.L8     -0.1347      0.155     -0.871      0.384      -0.438       0.169\n",
       "JPNRGDPEXP.L9     -0.0285      0.155     -0.184      0.854      -0.332       0.275\n",
       "JPNRGDPEXP.L10    -0.0633      0.153     -0.414      0.679      -0.363       0.236\n",
       "JPNRGDPEXP.L11    -0.2310      0.151     -1.530      0.126      -0.527       0.065\n",
       "JPNRGDPEXP.L12    -0.0335      0.152     -0.220      0.826      -0.331       0.264\n",
       "                                    Roots                                     \n",
       "==============================================================================\n",
       "                   Real          Imaginary           Modulus         Frequency\n",
       "------------------------------------------------------------------------------\n",
       "AR.1             1.0501           -0.4141j            1.1288           -0.0598\n",
       "AR.2             1.0501           +0.4141j            1.1288            0.0598\n",
       "AR.3             0.6946           -0.8355j            1.0865           -0.1396\n",
       "AR.4             0.6946           +0.8355j            1.0865            0.1396\n",
       "AR.5             0.2069           -1.1540j            1.1724           -0.2218\n",
       "AR.6             0.2069           +1.1540j            1.1724            0.2218\n",
       "AR.7            -0.4590           -1.0633j            1.1582           -0.3149\n",
       "AR.8            -0.4590           +1.0633j            1.1582            0.3149\n",
       "AR.9            -1.0317           -0.5376j            1.1634           -0.4236\n",
       "AR.10           -1.0317           +0.5376j            1.1634            0.4236\n",
       "AR.11           -1.2020           -0.0000j            1.2020           -0.5000\n",
       "AR.12           -6.6198           -0.0000j            6.6198           -0.5000\n",
       "------------------------------------------------------------------------------\n",
       "\"\"\""
      ]
     },
     "execution_count": 10,
     "metadata": {},
     "output_type": "execute_result"
    }
   ],
   "source": [
    "# problem 3-5\n",
    "\n",
    "# AR(12) model\n",
    "data_ld = data_l.diff(1).dropna(how=\"any\")\n",
    "lags = 12\n",
    "model = AutoReg(data_ld, lags=lags, trend='c', old_names=False)\n",
    "result = model.fit()\n",
    "result.summary()"
   ]
  },
  {
   "cell_type": "code",
   "execution_count": 11,
   "metadata": {},
   "outputs": [],
   "source": [
    "# transform data\n",
    "beta = result.params[1:lags+1]\n",
    "beta0 = result.params[0]"
   ]
  },
  {
   "cell_type": "code",
   "execution_count": 12,
   "metadata": {},
   "outputs": [],
   "source": [
    "# B-N decomposition\n",
    "\n",
    "# create coefficient matrix\n",
    "imat = np.eye(lags)\n",
    "b1 = np.insert(imat,lags, ([0]*lags), axis=1)\n",
    "b1 = np.insert(b1[1:,1:], 0,beta , axis=0)\n",
    "\n",
    "# get B_1(I-B_1)^(-1)\n",
    "c1 = np.dot(b1, np.linalg.inv(imat-b1))"
   ]
  },
  {
   "cell_type": "code",
   "execution_count": 13,
   "metadata": {},
   "outputs": [],
   "source": [
    "# get first-difference matrix\n",
    "\n",
    "data_ldd = np.insert(data_ld.values, 0 ,[0]*(lags+1) , axis=0) - beta0\n",
    "\n",
    "# create matrix of historical lags\n",
    "data_D = np.zeros([lags, len(data_ldd)-lags])\n",
    "\n",
    "for i in range(0,lags):\n",
    "    data_D[i] = data_ldd[(1+i):(len(data_ldd)-(lags)+(i+1))]\n",
    "    \n",
    "data_D = np.flipud(data_D)"
   ]
  },
  {
   "cell_type": "code",
   "execution_count": 14,
   "metadata": {},
   "outputs": [],
   "source": [
    "# selection vector \n",
    "selvec = [0]*lags\n",
    "selvec[0]=1\n",
    "\n",
    "# calculate trend and cycle\n",
    "trend = data_l + (np.dot(np.dot(selvec,c1), data_D)).T\n",
    "cycle = -(np.dot(np.dot(selvec,c1), data_D)).T\n",
    "\n",
    "# create dataframe\n",
    "trend_df = data_l.copy()\n",
    "cycle_df = data_l.copy()\n",
    "trend_df.iloc[:,] = trend\n",
    "cycle_df.iloc[:,] = cycle"
   ]
  },
  {
   "cell_type": "code",
   "execution_count": 15,
   "metadata": {},
   "outputs": [
    {
     "data": {
      "image/png": "[encoded data removed]",
      "text/plain": [
       "<Figure size 432x288 with 1 Axes>"
      ]
     },
     "metadata": {
      "needs_background": "light"
     },
     "output_type": "display_data"
    }
   ],
   "source": [
    "# plot b-n trend and log series\n",
    "plot_data(cycle_df, None, ['cycle'], 'bn-filter cycle')"
   ]
  },
  {
   "cell_type": "code",
   "execution_count": 16,
   "metadata": {},
   "outputs": [
    {
     "data": {
      "image/png": "[encoded data removed]",
      "text/plain": [
       "<Figure size 432x288 with 1 Axes>"
      ]
     },
     "metadata": {
      "needs_background": "light"
     },
     "output_type": "display_data"
    }
   ],
   "source": [
    "# plot b-n trend and log series\n",
    "plot_data(trend_df, data_l, ['trend', 'log_gdp'], 'bn-filter trend and log-gdp')"
   ]
  },
  {
   "cell_type": "code",
   "execution_count": 17,
   "metadata": {},
   "outputs": [],
   "source": [
    "# Problem 3-6\n",
    "\n",
    "# calculate RSS\n",
    "def calc_residuals(X, y):\n",
    "    # calc_chowstat \n",
    "    model = lr()\n",
    "    model.fit(X, y)\n",
    "    pred = model.predict(X)\n",
    "    return sum(np.power(y-pred,2))    "
   ]
  },
  {
   "cell_type": "code",
   "execution_count": 18,
   "metadata": {},
   "outputs": [],
   "source": [
    "# diff(1)\n",
    "data_ld = data_l.diff(1).dropna(how='any')\n",
    "time = np.array(range(0, data_ld.count())).reshape(-1,1)\n",
    "\n",
    "# restricted RSS\n",
    "rss_r = calc_residuals(time, data_ld)\n",
    "\n",
    "q = 1 \n",
    "\n",
    "start = 19 # 20th period\n",
    "period = data_ld.index[start:-20]"
   ]
  },
  {
   "cell_type": "code",
   "execution_count": 19,
   "metadata": {},
   "outputs": [],
   "source": [
    "# max-F\n",
    "max_F = 0\n",
    "breakp = None # break point\n",
    "\n",
    "# search sup-Fstatic\n",
    "for i, t in enumerate(period):\n",
    "    time1, time2 = data_ld.index[start+i-1], data_ld.index[start+i] # break point\n",
    "    Y1, Y2 = data_ld[:time1], data_ld[time2:]\n",
    "    X1 = np.array(range(0, Y1.count())).reshape(-1,1)\n",
    "    X2 = np.array(range(0, Y2.count())).reshape(-1,1)\n",
    "    \n",
    "    rss_1 = calc_residuals(X1, Y1)\n",
    "    rss_2 = calc_residuals(X2, Y2)\n",
    "    \n",
    "    # Chow test\n",
    "    numerator = (rss_r - (rss_1 + rss_2)) / q\n",
    "    denominator = rss_r / (data_ld.count() - 2*q)\n",
    "    \n",
    "    F = (numerator / denominator)\n",
    "    \n",
    "    # update breakpoint\n",
    "    if max_F < F:\n",
    "        breakp = [start+i, time1, time2] # breakpoint, break_before, break_after\n",
    "        \n",
    "    max_F = max(max_F, F)"
   ]
  },
  {
   "cell_type": "code",
   "execution_count": 24,
   "metadata": {
    "scrolled": false
   },
   "outputs": [
    {
     "name": "stdout",
     "output_type": "stream",
     "text": [
      "predict before breakpoint: 1994-06-30    0.006260\n",
      "1994-09-30    0.006092\n",
      "1994-12-31    0.005923\n",
      "1995-03-31    0.005754\n",
      "1995-06-30    0.005586\n",
      "1995-09-30    0.005417\n",
      "1995-12-31    0.005248\n",
      "1996-03-31    0.005080\n",
      "1996-06-30    0.004911\n",
      "1996-09-30    0.004743\n",
      "1996-12-31    0.004574\n",
      "1997-03-31    0.004405\n",
      "1997-06-30    0.004237\n",
      "1997-09-30    0.004068\n",
      "1997-12-31    0.003899\n",
      "1998-03-31    0.003731\n",
      "1998-06-30    0.003562\n",
      "1998-09-30    0.003394\n",
      "1998-12-31    0.003225\n",
      "1999-03-31    0.003056\n",
      "1999-06-30    0.002888\n",
      "1999-09-30    0.002719\n",
      "1999-12-31    0.002550\n",
      "2000-03-31    0.002382\n",
      "2000-06-30    0.002213\n",
      "2000-09-30    0.002045\n",
      "2000-12-31    0.001876\n",
      "2001-03-31    0.001707\n",
      "2001-06-30    0.001539\n",
      "2001-09-30    0.001370\n",
      "2001-12-31    0.001201\n",
      "2002-03-31    0.001033\n",
      "2002-06-30    0.000864\n",
      "2002-09-30    0.000696\n",
      "2002-12-31    0.000527\n",
      "2003-03-31    0.000358\n",
      "2003-06-30    0.000190\n",
      "2003-09-30    0.000021\n",
      "2003-12-31   -0.000148\n",
      "2004-03-31   -0.000316\n",
      "2004-06-30   -0.000485\n",
      "2004-09-30   -0.000653\n",
      "2004-12-31   -0.000822\n",
      "2005-03-31   -0.000991\n",
      "2005-06-30   -0.001159\n",
      "2005-09-30   -0.001328\n",
      "2005-12-31   -0.001497\n",
      "2006-03-31   -0.001665\n",
      "2006-06-30   -0.001834\n",
      "2006-09-30   -0.002002\n",
      "2006-12-31   -0.002171\n",
      "2007-03-31   -0.002340\n",
      "2007-06-30   -0.002508\n",
      "2007-09-30   -0.002677\n",
      "2007-12-31   -0.002846\n",
      "2008-03-31   -0.003014\n",
      "2008-06-30   -0.003183\n",
      "2008-09-30   -0.003351\n",
      "2008-12-31   -0.003520\n",
      "2009-03-31   -0.003689\n",
      "Freq: Q-DEC, Name: JPNRGDPEXP, dtype: float64\n",
      "predict after breakpoint: 2009-06-30    0.007025\n",
      "2009-09-30    0.006827\n",
      "2009-12-31    0.006629\n",
      "2010-03-31    0.006432\n",
      "2010-06-30    0.006234\n",
      "2010-09-30    0.006036\n",
      "2010-12-31    0.005839\n",
      "2011-03-31    0.005641\n",
      "2011-06-30    0.005443\n",
      "2011-09-30    0.005246\n",
      "2011-12-31    0.005048\n",
      "2012-03-31    0.004850\n",
      "2012-06-30    0.004653\n",
      "2012-09-30    0.004455\n",
      "2012-12-31    0.004257\n",
      "2013-03-31    0.004060\n",
      "2013-06-30    0.003862\n",
      "2013-09-30    0.003664\n",
      "2013-12-31    0.003467\n",
      "2014-03-31    0.003269\n",
      "2014-06-30    0.003071\n",
      "2014-09-30    0.002874\n",
      "2014-12-31    0.002676\n",
      "2015-03-31    0.002478\n",
      "2015-06-30    0.002281\n",
      "2015-09-30    0.002083\n",
      "2015-12-31    0.001885\n",
      "2016-03-31    0.001688\n",
      "2016-06-30    0.001490\n",
      "2016-09-30    0.001292\n",
      "2016-12-31    0.001094\n",
      "2017-03-31    0.000897\n",
      "2017-06-30    0.000699\n",
      "2017-09-30    0.000501\n",
      "2017-12-31    0.000304\n",
      "2018-03-31    0.000106\n",
      "2018-06-30   -0.000092\n",
      "2018-09-30   -0.000289\n",
      "2018-12-31   -0.000487\n",
      "2019-03-31   -0.000685\n",
      "2019-06-30   -0.000882\n",
      "2019-09-30   -0.001080\n",
      "2019-12-31   -0.001278\n",
      "2020-03-31   -0.001475\n",
      "2020-06-30   -0.001673\n",
      "2020-09-30   -0.001871\n",
      "2020-12-31   -0.002068\n",
      "Freq: Q-DEC, Name: JPNRGDPEXP, dtype: float64\n"
     ]
    }
   ],
   "source": [
    "# estimate trend\n",
    "model_bef = lr()\n",
    "model_aft = lr()\n",
    "\n",
    "# time\n",
    "time_bef = np.array(range(0, data_ld[:breakp[1]].count())).reshape(-1,1)\n",
    "time_aft = np.array(range(0, data_ld[breakp[2]:].count())).reshape(-1,1)\n",
    "\n",
    "# estimate\n",
    "model_bef.fit(time_bef, data_ld[:breakp[1]])\n",
    "model_aft.fit(time_aft, data_ld[breakp[2]:])\n",
    "\n",
    "# predict\n",
    "predict_bef = data_ld[:breakp[1]].copy() # copy\n",
    "predict_aft = data_ld[breakp[2]:].copy() # copy\n",
    "predict_bef[:] = model_bef.predict(time_bef)\n",
    "predict_aft[:] = model_aft.predict(time_aft)\n",
    "print(\"predict before breakpoint:\", predict_bef[])\n",
    "print(\"predict after breakpoint:\", predict_aft)"
   ]
  },
  {
   "cell_type": "code",
   "execution_count": 21,
   "metadata": {},
   "outputs": [
    {
     "name": "stdout",
     "output_type": "stream",
     "text": [
      "beta =  [-0.00016863]\n",
      "beta^* =  [-0.00019768]\n"
     ]
    }
   ],
   "source": [
    "# coefficient\n",
    "print('beta = ', model_bef.coef_)\n",
    "print('beta^* = ', model_aft.coef_)"
   ]
  },
  {
   "cell_type": "code",
   "execution_count": 22,
   "metadata": {},
   "outputs": [
    {
     "data": {
      "image/png": "[encoded data removed]",
      "text/plain": [
       "<Figure size 432x288 with 1 Axes>"
      ]
     },
     "metadata": {
      "needs_background": "light"
     },
     "output_type": "display_data"
    }
   ],
   "source": [
    "# plot\n",
    "plt.plot(data_ld.index, data_ld, label=\"log_diff_gdp\", color=\"orange\")\n",
    "plt.plot(data_ld.index[:breakp[0]], predict_bef, label=\"trend before the breakpoint\", color=\"green\")\n",
    "plt.plot(data_ld.index[breakp[0]:], predict_aft, label=\"trend after the breakpoint\", color=\"blue\")\n",
    "\n",
    "#setting\n",
    "plt.xticks(rotation=90, size='small')\n",
    "    \n",
    "# display\n",
    "plt.legend()\n",
    "\n",
    "# show\n",
    "plt.show()"
   ]
  },
  {
   "cell_type": "code",
   "execution_count": null,
   "metadata": {},
   "outputs": [],
   "source": []
  }
 ],
 "metadata": {
  "kernelspec": {
   "display_name": "Python 3",
   "language": "python",
   "name": "python3"
  },
  "language_info": {
   "codemirror_mode": {
    "name": "ipython",
    "version": 3
   },
   "file_extension": ".py",
   "mimetype": "text/x-python",
   "name": "python",
   "nbconvert_exporter": "python",
   "pygments_lexer": "ipython3",
   "version": "3.7.3"
  }
 },
 "nbformat": 4,
 "nbformat_minor": 2
}
